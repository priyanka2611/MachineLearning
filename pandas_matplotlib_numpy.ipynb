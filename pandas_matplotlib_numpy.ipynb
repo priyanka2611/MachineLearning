{
  "nbformat": 4,
  "nbformat_minor": 0,
  "metadata": {
    "colab": {
      "name": "pandas matplotlib numpy.ipynb",
      "provenance": [],
      "collapsed_sections": [],
      "authorship_tag": "ABX9TyMJ8oCbX6PhiKfEqULTWDBH",
      "include_colab_link": true
    },
    "kernelspec": {
      "name": "python3",
      "display_name": "Python 3"
    }
  },
  "cells": [
    {
      "cell_type": "markdown",
      "metadata": {
        "id": "view-in-github",
        "colab_type": "text"
      },
      "source": [
        "<a href=\"https://colab.research.google.com/github/priyanka2611/MachineLearning/blob/master/pandas_matplotlib_numpy.ipynb\" target=\"_parent\"><img src=\"https://colab.research.google.com/assets/colab-badge.svg\" alt=\"Open In Colab\"/></a>"
      ]
    },
    {
      "cell_type": "code",
      "metadata": {
        "id": "cDM9TvrtCyJJ",
        "colab_type": "code",
        "colab": {
          "base_uri": "https://localhost:8080/",
          "height": 34
        },
        "outputId": "ba47655f-cbaf-4b88-ee6f-147031b9f79d"
      },
      "source": [
        "from functools import reduce  #reduce is used when u want consolidated result over sequence\n",
        "l1=[3,5,1,2,6]\n",
        "sum =reduce(lambda x,y : x+y,l1)\n",
        "print(sum)"
      ],
      "execution_count": 5,
      "outputs": [
        {
          "output_type": "stream",
          "text": [
            "17\n"
          ],
          "name": "stdout"
        }
      ]
    },
    {
      "cell_type": "code",
      "metadata": {
        "id": "uGOvMTwnCx7y",
        "colab_type": "code",
        "colab": {
          "base_uri": "https://localhost:8080/",
          "height": 34
        },
        "outputId": "5cd52219-937d-43f7-8fc9-7c34372d4a09"
      },
      "source": [
        "l1=[1,4,2,7,44,21]\n",
        "l2= list(map(lambda x:x*2,l1))   # map helps to map a task on all elements\n",
        "print(l2)"
      ],
      "execution_count": 4,
      "outputs": [
        {
          "output_type": "stream",
          "text": [
            "[2, 8, 4, 14, 88, 42]\n"
          ],
          "name": "stdout"
        }
      ]
    },
    {
      "cell_type": "code",
      "metadata": {
        "id": "NG7iI1g-CBH8",
        "colab_type": "code",
        "colab": {
          "base_uri": "https://localhost:8080/",
          "height": 34
        },
        "outputId": "7150f6fe-3029-45ac-f2ca-9c04f80cb0d7"
      },
      "source": [
        "l1=[2,4,22,3,6,7]\n",
        "\n",
        "l2= list(filter(lambda x:(x%2==0),l1)) #filter(list and parameter) convert to list\n",
        "\n",
        "print(l2)"
      ],
      "execution_count": 3,
      "outputs": [
        {
          "output_type": "stream",
          "text": [
            "[2, 4, 22, 6]\n"
          ],
          "name": "stdout"
        }
      ]
    },
    {
      "cell_type": "code",
      "metadata": {
        "id": "AKGaH4qfZANf",
        "colab_type": "code",
        "colab": {
          "base_uri": "https://localhost:8080/",
          "height": 34
        },
        "outputId": "cb908893-8c43-4fc4-d219-1bd320095a93"
      },
      "source": [
        "g= lambda x: x*x\n",
        "\n",
        "g(10)\n"
      ],
      "execution_count": 2,
      "outputs": [
        {
          "output_type": "execute_result",
          "data": {
            "text/plain": [
              "100"
            ]
          },
          "metadata": {
            "tags": []
          },
          "execution_count": 2
        }
      ]
    },
    {
      "cell_type": "code",
      "metadata": {
        "id": "rhAM3u7TEUc3",
        "colab_type": "code",
        "colab": {
          "base_uri": "https://localhost:8080/",
          "height": 935
        },
        "outputId": "9f0d857d-b5d4-44fb-f8dc-e544cc60b662"
      },
      "source": [
        "#pandas(data manupulations) matplotlib(plotting, visulaization) numpy(numerical computing)\n",
        "\n",
        "#numpy: have multidimentional computing\n",
        "import numpy as np\n",
        "\n",
        "n1= np.array([10,20,30,40])\n",
        "print(n1)\n",
        "print('----')\n",
        "n2= np.array([[1,2,3], [4,5,6]])\n",
        "print(n2)\n",
        "print('----')\n",
        "\n",
        "n3=np.zeros((5,5))\n",
        "print(n3)\n",
        "print('----')\n",
        "n4=np.full((3,4), 4)\n",
        "print(n4)\n",
        "print('----')\n",
        "n5=np.arange(10,20)\n",
        "print(n5)\n",
        "print('----')\n",
        "n6=np.arange(10,20, 5)\n",
        "print(n6)\n",
        "print('----')\n",
        "n7=np.random.rand(2,5)\n",
        "print(n7)\n",
        "print('----')\n",
        "n8=np.random.randint(2,50,5)\n",
        "print(n8)\n",
        "\n",
        "print('----')\n",
        "a1= np.array([[1,2,4,5],[4,6,3,2]])\n",
        "a1.shape\n",
        "a1.shape= (4,2)\n",
        "a1\n",
        "\n",
        "#stack array : verically, horizontally, columnwise\n",
        "\n",
        "a2=np.array([1,5,4,3,2])\n",
        "a3=np.array([4,7,9,4,0])\n",
        "x1=np.vstack((a2,a3)) #vertically stack\n",
        "print(x1)\n",
        "print('----')\n",
        "x2=np.hstack((a2,a3))# horixonatlly stack\n",
        "print(x2)\n",
        "print('----')\n",
        "x3=np.column_stack((a2,a3)) # stack column visw\n",
        "print(x3)\n",
        "print('----')\n",
        "#intersect1d(common of both array values)\n",
        "q2=np.array([1,5,4,3,2])\n",
        "q3=np.array([1,7,9,2,0])\n",
        "print(np.intersect1d(q2,q3))\n",
        "print('----')\n",
        "#setdiff1d(a,b)( uncommon elemts of a )\n",
        "print(np.setdiff1d(q2,q3))\n",
        "print('----')\n",
        "\n",
        "\n",
        "#add arrays .sum\n",
        "e2=np.array([1,5,4,3,2])\n",
        "e3=np.array([1,7,9,2,0])\n",
        "print(np.sum([e2,e3])) #add all ements\n",
        "print('----')\n",
        "print(np.sum([e2,e3],axis= 0))\n",
        "print('----')\n",
        "print(np.sum([e2,e3],axis= 1)) #add column elements\n",
        "print('----')\n",
        "print(e3+1) #add1 to each\n",
        "print('--mean--')\n",
        "#mean , , \n",
        "print(np.mean(e3))\n",
        "print('--std dev--')\n",
        "print(np.std(e3))\n",
        "print('-median---')\n",
        "print(np.median(e3))\n",
        "\n",
        "\n",
        "#numpy save and load\n",
        "print('saveload')\n",
        "c1= np.save('file1', e3)\n",
        "\n",
        "p= np.load('file1.npy')\n",
        "print(p)\n"
      ],
      "execution_count": 43,
      "outputs": [
        {
          "output_type": "stream",
          "text": [
            "[10 20 30 40]\n",
            "----\n",
            "[[1 2 3]\n",
            " [4 5 6]]\n",
            "----\n",
            "[[0. 0. 0. 0. 0.]\n",
            " [0. 0. 0. 0. 0.]\n",
            " [0. 0. 0. 0. 0.]\n",
            " [0. 0. 0. 0. 0.]\n",
            " [0. 0. 0. 0. 0.]]\n",
            "----\n",
            "[[4 4 4 4]\n",
            " [4 4 4 4]\n",
            " [4 4 4 4]]\n",
            "----\n",
            "[10 11 12 13 14 15 16 17 18 19]\n",
            "----\n",
            "[10 15]\n",
            "----\n",
            "[[0.47416325 0.44050831 0.44346234 0.19946661 0.68577172]\n",
            " [0.29842764 0.62204747 0.40975777 0.93775528 0.34687637]]\n",
            "----\n",
            "[49 19 11 48 30]\n",
            "----\n",
            "[[1 5 4 3 2]\n",
            " [4 7 9 4 0]]\n",
            "----\n",
            "[1 5 4 3 2 4 7 9 4 0]\n",
            "----\n",
            "[[1 4]\n",
            " [5 7]\n",
            " [4 9]\n",
            " [3 4]\n",
            " [2 0]]\n",
            "----\n",
            "[1 2]\n",
            "----\n",
            "[3 4 5]\n",
            "----\n",
            "34\n",
            "----\n",
            "[ 2 12 13  5  2]\n",
            "----\n",
            "[15 19]\n",
            "----\n",
            "[ 2  8 10  3  1]\n",
            "--mean--\n",
            "3.8\n",
            "--std dev--\n",
            "3.54400902933387\n",
            "-median---\n",
            "2.0\n",
            "saveload\n",
            "[1 7 9 2 0]\n"
          ],
          "name": "stdout"
        }
      ]
    },
    {
      "cell_type": "code",
      "metadata": {
        "id": "M200iJZwbMHL",
        "colab_type": "code",
        "colab": {}
      },
      "source": [
        ""
      ],
      "execution_count": 0,
      "outputs": []
    },
    {
      "cell_type": "code",
      "metadata": {
        "id": "-NgGv9tdjs_p",
        "colab_type": "code",
        "colab": {}
      },
      "source": [
        "#PANDAS"
      ],
      "execution_count": 0,
      "outputs": []
    }
  ]
}