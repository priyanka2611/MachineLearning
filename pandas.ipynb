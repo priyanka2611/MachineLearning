{
  "nbformat": 4,
  "nbformat_minor": 0,
  "metadata": {
    "colab": {
      "name": "pandas",
      "provenance": [],
      "collapsed_sections": [],
      "authorship_tag": "ABX9TyNtYhjIMh1aF6TJxOJ4pYpt",
      "include_colab_link": true
    },
    "kernelspec": {
      "name": "python3",
      "display_name": "Python 3"
    }
  },
  "cells": [
    {
      "cell_type": "markdown",
      "metadata": {
        "id": "view-in-github",
        "colab_type": "text"
      },
      "source": [
        "<a href=\"https://colab.research.google.com/github/priyanka2611/MachineLearning/blob/master/pandas.ipynb\" target=\"_parent\"><img src=\"https://colab.research.google.com/assets/colab-badge.svg\" alt=\"Open In Colab\"/></a>"
      ]
    },
    {
      "cell_type": "code",
      "metadata": {
        "id": "8di39--mo8Yb",
        "colab_type": "code",
        "outputId": "7b763a63-4f50-414d-9ef8-5c54ea7ee1a4",
        "colab": {
          "base_uri": "https://localhost:8080/",
          "height": 748
        }
      },
      "source": [
        "#pandas : data manupulation/ analysis \n",
        "import pandas as pd\n",
        "#single dimensional : series objects with index values \n",
        "q1=pd.Series([1,2,3,5,6])\n",
        "print(q1)\n",
        "type(q1)\n",
        "print(pd.Series([1,2,4,5,7], index=['a',5,'f',7,'q']))\n",
        "print(pd.Series({'a':10, 'b':30, 'f':56}))\n",
        "print(pd.Series({'a':10, 'b':30, 'f':56}, index=['a','b','e','f']))\n",
        "#extract single element\n",
        "print(q1[3])\n",
        "#extract sequence of element\n",
        "print(q1[:4])\n",
        "#extract elements frm back\n",
        "print(q1[-3:])\n",
        "#add constant to series\n",
        "print(q1+100)\n",
        "#add series\n",
        "q2= pd.Series([3,6,5,4,2])\n",
        "print(q1+q2)"
      ],
      "execution_count": 0,
      "outputs": [
        {
          "output_type": "stream",
          "text": [
            "0    1\n",
            "1    2\n",
            "2    3\n",
            "3    5\n",
            "4    6\n",
            "dtype: int64\n",
            "a    1\n",
            "5    2\n",
            "f    4\n",
            "7    5\n",
            "q    7\n",
            "dtype: int64\n",
            "a    10\n",
            "b    30\n",
            "f    56\n",
            "dtype: int64\n",
            "a    10.0\n",
            "b    30.0\n",
            "e     NaN\n",
            "f    56.0\n",
            "dtype: float64\n",
            "5\n",
            "0    1\n",
            "1    2\n",
            "2    3\n",
            "3    5\n",
            "dtype: int64\n",
            "2    3\n",
            "3    5\n",
            "4    6\n",
            "dtype: int64\n",
            "0    101\n",
            "1    102\n",
            "2    103\n",
            "3    105\n",
            "4    106\n",
            "dtype: int64\n",
            "0    4\n",
            "1    8\n",
            "2    8\n",
            "3    9\n",
            "4    8\n",
            "dtype: int64\n"
          ],
          "name": "stdout"
        }
      ]
    },
    {
      "cell_type": "code",
      "metadata": {
        "id": "7QrY-yIt2QFU",
        "colab_type": "code",
        "outputId": "e5f0294b-0c97-45a2-89c5-ac2c0f484f0e",
        "colab": {
          "base_uri": "https://localhost:8080/",
          "height": 1000
        }
      },
      "source": [
        "#data frames: 2d structures\n",
        "\n",
        "print(\"head : first n rows , tail() : last n rows, shape():desciption of row, describe(): genral info about data set\")\n",
        "\n",
        "import pandas as pd\n",
        "\n",
        "print(pd.DataFrame({\"Name\":['a', 'b', 'c'], \"Marks\":[22,33,44]}))\n",
        "\n",
        "iris= pd.read_csv(\"iris.csv\")\n",
        "print(iris.head())\n",
        "print(iris.tail())\n",
        "print(iris.shape)\n",
        "print(iris.describe())\n",
        "\n",
        "#iloc and loc methods\n",
        "print('show specific data from table using index')\n",
        "print(iris.iloc[0:3, 0:2]) #column index given [R, C] give exclude 3\n",
        "print('show specific data from table using name')\n",
        "print(iris.loc[0:3,(\"sepal_length\", \"petal_length\", \"species\")]) #column name given [R, C] its inclusive of 0 and 3\n",
        "\n",
        "#drop columns\n",
        "print('drop column')\n",
        "print(iris.drop('species', axis =1)) #name of column , axis = 0(row) 1(column)\n",
        "print('drop 3 rows')\n",
        "print(iris.drop([1,2,3], axis =0)) #drop 3 rows "
      ],
      "execution_count": 16,
      "outputs": [
        {
          "output_type": "stream",
          "text": [
            "head : first n rows , tail() : last n rows, shape():desciption of row, describe(): genral info about data set\n",
            "  Name  Marks\n",
            "0    a     22\n",
            "1    b     33\n",
            "2    c     44\n",
            "   sepal_length  sepal_width  petal_length  petal_width species\n",
            "0           5.1          3.5           1.4          0.2  setosa\n",
            "1           4.9          3.0           1.4          0.2  setosa\n",
            "2           4.7          3.2           1.3          0.2  setosa\n",
            "3           4.6          3.1           1.5          0.2  setosa\n",
            "4           5.0          3.6           1.4          0.2  setosa\n",
            "     sepal_length  sepal_width  petal_length  petal_width    species\n",
            "145           6.7          3.0           5.2          2.3  virginica\n",
            "146           6.3          2.5           5.0          1.9  virginica\n",
            "147           6.5          3.0           5.2          2.0  virginica\n",
            "148           6.2          3.4           5.4          2.3  virginica\n",
            "149           5.9          3.0           5.1          1.8  virginica\n",
            "(150, 5)\n",
            "       sepal_length  sepal_width  petal_length  petal_width\n",
            "count    150.000000   150.000000    150.000000   150.000000\n",
            "mean       5.843333     3.054000      3.758667     1.198667\n",
            "std        0.828066     0.433594      1.764420     0.763161\n",
            "min        4.300000     2.000000      1.000000     0.100000\n",
            "25%        5.100000     2.800000      1.600000     0.300000\n",
            "50%        5.800000     3.000000      4.350000     1.300000\n",
            "75%        6.400000     3.300000      5.100000     1.800000\n",
            "max        7.900000     4.400000      6.900000     2.500000\n",
            "show specific data from table using index\n",
            "   sepal_length  sepal_width\n",
            "0           5.1          3.5\n",
            "1           4.9          3.0\n",
            "2           4.7          3.2\n",
            "show specific data from table using name\n",
            "   sepal_length  petal_length species\n",
            "0           5.1           1.4  setosa\n",
            "1           4.9           1.4  setosa\n",
            "2           4.7           1.3  setosa\n",
            "3           4.6           1.5  setosa\n",
            "drop column\n",
            "     sepal_length  sepal_width  petal_length  petal_width\n",
            "0             5.1          3.5           1.4          0.2\n",
            "1             4.9          3.0           1.4          0.2\n",
            "2             4.7          3.2           1.3          0.2\n",
            "3             4.6          3.1           1.5          0.2\n",
            "4             5.0          3.6           1.4          0.2\n",
            "..            ...          ...           ...          ...\n",
            "145           6.7          3.0           5.2          2.3\n",
            "146           6.3          2.5           5.0          1.9\n",
            "147           6.5          3.0           5.2          2.0\n",
            "148           6.2          3.4           5.4          2.3\n",
            "149           5.9          3.0           5.1          1.8\n",
            "\n",
            "[150 rows x 4 columns]\n",
            "drop 3 rows\n",
            "     sepal_length  sepal_width  petal_length  petal_width    species\n",
            "0             5.1          3.5           1.4          0.2     setosa\n",
            "4             5.0          3.6           1.4          0.2     setosa\n",
            "5             5.4          3.9           1.7          0.4     setosa\n",
            "6             4.6          3.4           1.4          0.3     setosa\n",
            "7             5.0          3.4           1.5          0.2     setosa\n",
            "..            ...          ...           ...          ...        ...\n",
            "145           6.7          3.0           5.2          2.3  virginica\n",
            "146           6.3          2.5           5.0          1.9  virginica\n",
            "147           6.5          3.0           5.2          2.0  virginica\n",
            "148           6.2          3.4           5.4          2.3  virginica\n",
            "149           5.9          3.0           5.1          1.8  virginica\n",
            "\n",
            "[147 rows x 5 columns]\n"
          ],
          "name": "stdout"
        }
      ]
    },
    {
      "cell_type": "code",
      "metadata": {
        "id": "Z5e2WdkCnkk8",
        "colab_type": "code",
        "colab": {
          "base_uri": "https://localhost:8080/",
          "height": 459
        },
        "outputId": "996b2d64-5871-4c41-d94e-4e559ff60364"
      },
      "source": [
        "print(\"mean\")\n",
        "print(iris.mean())\n",
        "print(\"min\")\n",
        "print(iris.min())\n",
        "print(\"median\")\n",
        "print(iris.median())\n",
        "print(\"max\")\n",
        "print(iris.max())\n",
        "\n",
        "\n",
        "#apply mehtod"
      ],
      "execution_count": 18,
      "outputs": [
        {
          "output_type": "stream",
          "text": [
            "mean\n",
            "sepal_length    5.843333\n",
            "sepal_width     3.054000\n",
            "petal_length    3.758667\n",
            "petal_width     1.198667\n",
            "dtype: float64\n",
            "min\n",
            "sepal_length       4.3\n",
            "sepal_width          2\n",
            "petal_length         1\n",
            "petal_width        0.1\n",
            "species         setosa\n",
            "dtype: object\n",
            "median\n",
            "sepal_length    5.80\n",
            "sepal_width     3.00\n",
            "petal_length    4.35\n",
            "petal_width     1.30\n",
            "dtype: float64\n",
            "max\n",
            "sepal_length          7.9\n",
            "sepal_width           4.4\n",
            "petal_length          6.9\n",
            "petal_width           2.5\n",
            "species         virginica\n",
            "dtype: object\n"
          ],
          "name": "stdout"
        }
      ]
    }
  ]
}